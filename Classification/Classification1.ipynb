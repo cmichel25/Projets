{
  "cells": [
    {
      "cell_type": "markdown",
      "id": "b30ef21f",
      "metadata": {
        "id": "b30ef21f"
      },
      "source": [
        "# Classification du vin\n",
        "\n",
        "\n"
      ]
    },
    {
      "cell_type": "code",
      "execution_count": null,
      "id": "52db69ec-c7e6-4260-b25b-382bfcaa5d8f",
      "metadata": {
        "id": "52db69ec-c7e6-4260-b25b-382bfcaa5d8f",
        "outputId": "3774cd7d-6e76-4d68-b172-9ec7e2db8a7a"
      },
      "outputs": [
        {
          "data": {
            "text/html": [
              "<div>\n",
              "<style scoped>\n",
              "    .dataframe tbody tr th:only-of-type {\n",
              "        vertical-align: middle;\n",
              "    }\n",
              "\n",
              "    .dataframe tbody tr th {\n",
              "        vertical-align: top;\n",
              "    }\n",
              "\n",
              "    .dataframe thead th {\n",
              "        text-align: right;\n",
              "    }\n",
              "</style>\n",
              "<table border=\"1\" class=\"dataframe\">\n",
              "  <thead>\n",
              "    <tr style=\"text-align: right;\">\n",
              "      <th></th>\n",
              "      <th>fixed acidity</th>\n",
              "      <th>volatile acidity</th>\n",
              "      <th>citric acid</th>\n",
              "      <th>residual sugar</th>\n",
              "      <th>chlorides</th>\n",
              "      <th>free sulfur dioxide</th>\n",
              "      <th>total sulfur dioxide</th>\n",
              "      <th>density</th>\n",
              "      <th>pH</th>\n",
              "      <th>sulphates</th>\n",
              "      <th>alcohol</th>\n",
              "      <th>quality</th>\n",
              "    </tr>\n",
              "  </thead>\n",
              "  <tbody>\n",
              "    <tr>\n",
              "      <th>0</th>\n",
              "      <td>7.4</td>\n",
              "      <td>0.70</td>\n",
              "      <td>0.00</td>\n",
              "      <td>1.9</td>\n",
              "      <td>0.076</td>\n",
              "      <td>11.0</td>\n",
              "      <td>34.0</td>\n",
              "      <td>0.9978</td>\n",
              "      <td>3.51</td>\n",
              "      <td>0.56</td>\n",
              "      <td>9.4</td>\n",
              "      <td>5</td>\n",
              "    </tr>\n",
              "    <tr>\n",
              "      <th>1</th>\n",
              "      <td>7.8</td>\n",
              "      <td>0.88</td>\n",
              "      <td>0.00</td>\n",
              "      <td>2.6</td>\n",
              "      <td>0.098</td>\n",
              "      <td>25.0</td>\n",
              "      <td>67.0</td>\n",
              "      <td>0.9968</td>\n",
              "      <td>3.20</td>\n",
              "      <td>0.68</td>\n",
              "      <td>9.8</td>\n",
              "      <td>5</td>\n",
              "    </tr>\n",
              "    <tr>\n",
              "      <th>2</th>\n",
              "      <td>7.8</td>\n",
              "      <td>0.76</td>\n",
              "      <td>0.04</td>\n",
              "      <td>2.3</td>\n",
              "      <td>0.092</td>\n",
              "      <td>15.0</td>\n",
              "      <td>54.0</td>\n",
              "      <td>0.9970</td>\n",
              "      <td>3.26</td>\n",
              "      <td>0.65</td>\n",
              "      <td>9.8</td>\n",
              "      <td>5</td>\n",
              "    </tr>\n",
              "    <tr>\n",
              "      <th>3</th>\n",
              "      <td>11.2</td>\n",
              "      <td>0.28</td>\n",
              "      <td>0.56</td>\n",
              "      <td>1.9</td>\n",
              "      <td>0.075</td>\n",
              "      <td>17.0</td>\n",
              "      <td>60.0</td>\n",
              "      <td>0.9980</td>\n",
              "      <td>3.16</td>\n",
              "      <td>0.58</td>\n",
              "      <td>9.8</td>\n",
              "      <td>6</td>\n",
              "    </tr>\n",
              "    <tr>\n",
              "      <th>4</th>\n",
              "      <td>7.4</td>\n",
              "      <td>0.70</td>\n",
              "      <td>0.00</td>\n",
              "      <td>1.9</td>\n",
              "      <td>0.076</td>\n",
              "      <td>11.0</td>\n",
              "      <td>34.0</td>\n",
              "      <td>0.9978</td>\n",
              "      <td>3.51</td>\n",
              "      <td>0.56</td>\n",
              "      <td>9.4</td>\n",
              "      <td>5</td>\n",
              "    </tr>\n",
              "  </tbody>\n",
              "</table>\n",
              "</div>"
            ],
            "text/plain": [
              "   fixed acidity  volatile acidity  citric acid  residual sugar  chlorides  \\\n",
              "0            7.4              0.70         0.00             1.9      0.076   \n",
              "1            7.8              0.88         0.00             2.6      0.098   \n",
              "2            7.8              0.76         0.04             2.3      0.092   \n",
              "3           11.2              0.28         0.56             1.9      0.075   \n",
              "4            7.4              0.70         0.00             1.9      0.076   \n",
              "\n",
              "   free sulfur dioxide  total sulfur dioxide  density    pH  sulphates  \\\n",
              "0                 11.0                  34.0   0.9978  3.51       0.56   \n",
              "1                 25.0                  67.0   0.9968  3.20       0.68   \n",
              "2                 15.0                  54.0   0.9970  3.26       0.65   \n",
              "3                 17.0                  60.0   0.9980  3.16       0.58   \n",
              "4                 11.0                  34.0   0.9978  3.51       0.56   \n",
              "\n",
              "   alcohol  quality  \n",
              "0      9.4        5  \n",
              "1      9.8        5  \n",
              "2      9.8        5  \n",
              "3      9.8        6  \n",
              "4      9.4        5  "
            ]
          },
          "execution_count": 1,
          "metadata": {},
          "output_type": "execute_result"
        }
      ],
      "source": [
        "import pandas as pd\n",
        "import chardet\n",
        "\n",
        "with open('winequality-red.csv', 'rb') as f:\n",
        "    result = chardet.detect(f.read())\n",
        "\n",
        "images = pd.read_csv('winequality-red.csv', delimiter=\";\",decimal = \".\",encoding=result['encoding'])\n",
        "images.head()"
      ]
    },
    {
      "cell_type": "code",
      "execution_count": null,
      "id": "79aea2d9-1138-4b7e-b184-27d26cab4849",
      "metadata": {
        "id": "79aea2d9-1138-4b7e-b184-27d26cab4849",
        "outputId": "5e603ecb-0788-4a10-f9e5-b5e463029806"
      },
      "outputs": [
        {
          "name": "stdout",
          "output_type": "stream",
          "text": [
            "(1199, 11) (400, 11)\n"
          ]
        }
      ],
      "source": [
        "from sklearn.model_selection import train_test_split\n",
        "\n",
        "X = images.drop(['quality'], axis=1).copy()\n",
        "Y = images['quality'].copy()\n",
        "X_train, X_test, Y_train, Y_test = train_test_split(X, Y, random_state=12345)\n",
        "X_train.shape\n",
        "X_test.shape\n",
        "print(X_train.shape,X_test.shape)"
      ]
    },
    {
      "cell_type": "markdown",
      "id": "6c227700-7ac8-43b4-849b-6e5cb4b09050",
      "metadata": {
        "id": "6c227700-7ac8-43b4-849b-6e5cb4b09050"
      },
      "source": [
        "2. (Regularized) Logistic regression"
      ]
    },
    {
      "cell_type": "code",
      "execution_count": null,
      "id": "d109d34a-3d93-43b8-b3ff-ed02cf8230c5",
      "metadata": {
        "scrolled": true,
        "id": "d109d34a-3d93-43b8-b3ff-ed02cf8230c5",
        "outputId": "a201b1db-570b-4e27-ad3f-ecc43bda045f"
      },
      "outputs": [
        {
          "name": "stdout",
          "output_type": "stream",
          "text": [
            "Accuracy of Logistic Regression : 0.512\n"
          ]
        },
        {
          "name": "stderr",
          "output_type": "stream",
          "text": [
            "/Library/Frameworks/Python.framework/Versions/3.8/lib/python3.8/site-packages/sklearn/model_selection/_split.py:684: UserWarning: The least populated class in y has only 7 members, which is less than n_splits=10.\n",
            "  warnings.warn(\n"
          ]
        },
        {
          "name": "stdout",
          "output_type": "stream",
          "text": [
            "Accuracy of Logistic Regression with Lasso penalty : 0.512\n"
          ]
        },
        {
          "name": "stderr",
          "output_type": "stream",
          "text": [
            "/Library/Frameworks/Python.framework/Versions/3.8/lib/python3.8/site-packages/sklearn/model_selection/_split.py:684: UserWarning: The least populated class in y has only 7 members, which is less than n_splits=10.\n",
            "  warnings.warn(\n"
          ]
        },
        {
          "name": "stdout",
          "output_type": "stream",
          "text": [
            "Accuracy of Logistic Regression with Ridge penalty : 0.510\n"
          ]
        },
        {
          "name": "stderr",
          "output_type": "stream",
          "text": [
            "/Library/Frameworks/Python.framework/Versions/3.8/lib/python3.8/site-packages/sklearn/model_selection/_split.py:684: UserWarning: The least populated class in y has only 7 members, which is less than n_splits=10.\n",
            "  warnings.warn(\n"
          ]
        },
        {
          "name": "stdout",
          "output_type": "stream",
          "text": [
            "Accuracy of Logistic Regression with Elastic-net penalty : 0.507\n"
          ]
        }
      ],
      "source": [
        "from sklearn.linear_model import LogisticRegression, LogisticRegressionCV\n",
        "from sklearn.metrics import ConfusionMatrixDisplay\n",
        "from sklearn.metrics import accuracy_score\n",
        "\n",
        "\n",
        "clf_LR = LogisticRegression(penalty=\"none\", multi_class=\"multinomial\", solver=\"saga\", tol=0.01)\n",
        "clf_LR.fit(X_train, Y_train)\n",
        "\n",
        "\n",
        "accuracy_LR = accuracy_score(Y_test, clf_LR.predict(X_test))\n",
        "\n",
        "print(\"Accuracy of Logistic Regression :\",\"%.3f\" % accuracy_LR)\n",
        "\n",
        "clf_l1_LR = LogisticRegressionCV(penalty='l1', cv=10, multi_class=\"multinomial\",\n",
        "                                 solver=\"saga\",tol=0.01, random_state=12345)\n",
        "clf_l1_LR.fit(X_train, Y_train)\n",
        "\n",
        "accuracy_l1_LR = accuracy_score(Y_test, clf_l1_LR.predict(X_test))\n",
        "\n",
        "print(\"Accuracy of Logistic Regression with Lasso penalty :\",\"%.3f\" % accuracy_l1_LR)\n",
        "\n",
        "clf_l2_LR = LogisticRegressionCV(penalty='l2', cv=10, multi_class=\"multinomial\",\n",
        "                                 solver=\"saga\",tol=0.01, random_state=12345)\n",
        "clf_l2_LR.fit(X_train, Y_train)\n",
        "\n",
        "accuracy_l2_LR = accuracy_score(Y_test, clf_l2_LR.predict(X_test))\n",
        "\n",
        "print(\"Accuracy of Logistic Regression with Ridge penalty :\",\"%.3f\" % accuracy_l2_LR)\n",
        "\n",
        "clf_l1l2_LR = LogisticRegressionCV(penalty='elasticnet', l1_ratios=[0.1,0.2,0.5,0.7,0.9],\n",
        "                                   cv=10, multi_class=\"multinomial\",\n",
        "                                 solver=\"saga\",tol=0.01, random_state=12345)\n",
        "clf_l1l2_LR.fit(X_train, Y_train)\n",
        "\n",
        "accuracy_l1l2_LR = accuracy_score(Y_test, clf_l1l2_LR.predict(X_test))\n",
        "\n",
        "print(\"Accuracy of Logistic Regression with Elastic-net penalty :\",\"%.3f\" % accuracy_l1l2_LR)\n",
        "\n"
      ]
    },
    {
      "cell_type": "markdown",
      "id": "37feb485",
      "metadata": {
        "id": "37feb485"
      },
      "source": [
        "3. SVM"
      ]
    },
    {
      "cell_type": "code",
      "execution_count": null,
      "id": "d3cb7bef",
      "metadata": {
        "id": "d3cb7bef"
      },
      "outputs": [],
      "source": [
        "from sklearn.preprocessing import StandardScaler\n",
        "scaler_sd = StandardScaler()\n",
        "\n",
        "# Get scaling parameters with the train sample exclusively, using the Scaler.fit() function\n",
        "scaler_sd.fit(X_train)\n",
        "\n",
        "# Scale data using Scaler.transform()\n",
        "X_train_scaled = pd.DataFrame(scaler_sd.transform(X_train))\n",
        "X_test_scaled = pd.DataFrame(scaler_sd.transform(X_test))"
      ]
    },
    {
      "cell_type": "code",
      "execution_count": null,
      "id": "eb154584",
      "metadata": {
        "id": "eb154584",
        "outputId": "58a6b446-a390-4f80-d0d8-7f1e6f35b74b"
      },
      "outputs": [
        {
          "name": "stderr",
          "output_type": "stream",
          "text": [
            "/Library/Frameworks/Python.framework/Versions/3.8/lib/python3.8/site-packages/sklearn/model_selection/_split.py:684: UserWarning: The least populated class in y has only 7 members, which is less than n_splits=10.\n",
            "  warnings.warn(\n"
          ]
        },
        {
          "name": "stdout",
          "output_type": "stream",
          "text": [
            "{'C': 1000, 'gamma': 0.005, 'kernel': 'rbf'}\n"
          ]
        }
      ],
      "source": [
        "from sklearn.svm import SVC\n",
        "from sklearn.model_selection import GridSearchCV\n",
        "\n",
        "param_grid = [\n",
        "  {'C': [1, 10, 100,1000, 2000],\n",
        "   'gamma': [0.0001, 0.001,0.0050],\n",
        "   'kernel': ['rbf']},\n",
        " ]\n",
        "\n",
        "optimal_params = GridSearchCV(\n",
        "        SVC(),\n",
        "        param_grid,\n",
        "        cv=10,\n",
        "        verbose=0\n",
        "    )\n",
        "\n",
        "optimal_params.fit(X_train_scaled, Y_train)\n",
        "print(optimal_params.best_params_)"
      ]
    },
    {
      "cell_type": "code",
      "execution_count": null,
      "id": "bcc3276a",
      "metadata": {
        "id": "bcc3276a",
        "outputId": "b5023124-41bc-4e7c-96c0-28ce54af43d1"
      },
      "outputs": [
        {
          "name": "stdout",
          "output_type": "stream",
          "text": [
            "Accuracy of Support Vector Machines : 0.583\n"
          ]
        }
      ],
      "source": [
        "clf_svm = SVC(random_state=12345, C=1000, gamma=0.005, probability=True)\n",
        "clf_svm.fit(X_train_scaled, Y_train)\n",
        "\n",
        "accuracy_svm = accuracy_score(Y_test, clf_svm.predict(X_test_scaled))\n",
        "\n",
        "print(\"Accuracy of Support Vector Machines :\",\"%.3f\" % accuracy_svm)"
      ]
    },
    {
      "cell_type": "markdown",
      "id": "4434c911",
      "metadata": {
        "id": "4434c911"
      },
      "source": [
        "4. Random Forests"
      ]
    },
    {
      "cell_type": "code",
      "execution_count": null,
      "id": "f85a4a4a",
      "metadata": {
        "id": "f85a4a4a",
        "outputId": "8de3382d-e89c-4961-ec20-fcecd62fe679"
      },
      "outputs": [
        {
          "name": "stderr",
          "output_type": "stream",
          "text": [
            "/Library/Frameworks/Python.framework/Versions/3.8/lib/python3.8/site-packages/sklearn/model_selection/_split.py:684: UserWarning: The least populated class in y has only 7 members, which is less than n_splits=10.\n",
            "  warnings.warn(\n"
          ]
        },
        {
          "name": "stdout",
          "output_type": "stream",
          "text": [
            "{'max_features': 3, 'n_estimators': 100}\n"
          ]
        }
      ],
      "source": [
        "from sklearn import tree\n",
        "from sklearn.ensemble import RandomForestClassifier\n",
        "\n",
        "RF = RandomForestClassifier(random_state=12345)\n",
        "param_grid = {'n_estimators' : [ 100, 200],\n",
        "            'max_features' : [2,3,4,5]  }\n",
        "\n",
        "optimal_params = GridSearchCV(\n",
        "        RF,\n",
        "        param_grid,\n",
        "        cv=10,\n",
        "        verbose=0\n",
        "    )\n",
        "\n",
        "optimal_params.fit(X_train, Y_train)\n",
        "print(optimal_params.best_params_)\n"
      ]
    },
    {
      "cell_type": "code",
      "execution_count": null,
      "id": "ac0b80c5",
      "metadata": {
        "id": "ac0b80c5",
        "outputId": "e0ab44e9-895e-437a-efcc-91a974fbed40"
      },
      "outputs": [
        {
          "name": "stdout",
          "output_type": "stream",
          "text": [
            "Accuracy of Random Forests : 0.695\n"
          ]
        }
      ],
      "source": [
        "\n",
        "clf_RF = RandomForestClassifier(n_estimators=100, max_features=3,random_state=12345)\n",
        "\n",
        "clf_RF.fit(X_train, Y_train)\n",
        "\n",
        "accuracy_RF = accuracy_score(Y_test, clf_RF.predict(X_test))\n",
        "\n",
        "print(\"Accuracy of Random Forests :\",\"%.3f\" % accuracy_RF)"
      ]
    },
    {
      "cell_type": "markdown",
      "id": "9dcb7982-af7a-432f-a379-f1f987dcfcc0",
      "metadata": {
        "id": "9dcb7982-af7a-432f-a379-f1f987dcfcc0"
      },
      "source": [
        "5. XGBoost"
      ]
    },
    {
      "cell_type": "code",
      "execution_count": null,
      "id": "b6335448-f2dd-4deb-8612-fcb332aa0877",
      "metadata": {
        "id": "b6335448-f2dd-4deb-8612-fcb332aa0877",
        "outputId": "d643a55f-d512-48d4-aecc-ad1b5a815e13"
      },
      "outputs": [
        {
          "name": "stderr",
          "output_type": "stream",
          "text": [
            "/Library/Frameworks/Python.framework/Versions/3.8/lib/python3.8/site-packages/sklearn/model_selection/_split.py:684: UserWarning: The least populated class in y has only 7 members, which is less than n_splits=10.\n",
            "  warnings.warn(\n"
          ]
        },
        {
          "name": "stdout",
          "output_type": "stream",
          "text": [
            "{'gamma': 0, 'learning_rate': 0.05, 'max_depth': 5, 'n_estimators': 200}\n"
          ]
        }
      ],
      "source": [
        "from sklearn.preprocessing import LabelEncoder\n",
        "import xgboost as xgb\n",
        "from xgboost import XGBClassifier\n",
        "\n",
        "\n",
        "label_encoder = LabelEncoder()\n",
        "label_encoder = label_encoder.fit(Y)\n",
        "label_encoded_y_train = label_encoder.transform(Y_train)\n",
        "\n",
        "param_grid = {'max_depth':[2, 3, 5], 'gamma':[0, 0.5, 1], 'n_estimators':[100, 200], 'learning_rate':[0.01, 0.05, 0.1]}\n",
        "\n",
        "optimal_params = GridSearchCV(\n",
        "        XGBClassifier(objective='multi:softprob', seed='12345'),\n",
        "        param_grid,\n",
        "        cv=10,\n",
        "        verbose=0\n",
        "    )\n",
        "\n",
        "optimal_params.fit(X_train,label_encoded_y_train)\n",
        "print(optimal_params.best_params_)"
      ]
    },
    {
      "cell_type": "code",
      "execution_count": null,
      "id": "d120a42d",
      "metadata": {
        "id": "d120a42d",
        "outputId": "dfba85b9-f2e4-435e-c654-bdce002e6d62"
      },
      "outputs": [
        {
          "name": "stdout",
          "output_type": "stream",
          "text": [
            "Accuracy of XGBOOST : 0.700\n"
          ]
        }
      ],
      "source": [
        "clf_xgb = XGBClassifier(objective='multi:softprob', seed='12345',\n",
        "                       gamma=0, learning_rate=0.05, max_depth=5, n_estimators=200)\n",
        "clf_xgb.fit(X_train, label_encoded_y_train)\n",
        "\n",
        "accuracy_xgb = accuracy_score(label_encoder.transform(Y_test), clf_xgb.predict(X_test))\n",
        "\n",
        "print(\"Accuracy of XGBOOST :\",\"%.3f\" % accuracy_xgb)"
      ]
    },
    {
      "cell_type": "markdown",
      "id": "4a716294-ebf5-4e16-8498-ffceea4dbb30",
      "metadata": {
        "tags": [],
        "id": "4a716294-ebf5-4e16-8498-ffceea4dbb30"
      },
      "source": [
        "4. Stacking"
      ]
    },
    {
      "cell_type": "code",
      "execution_count": null,
      "id": "72355985",
      "metadata": {
        "id": "72355985",
        "outputId": "90b4035c-d2d5-48a6-db70-a8c43b25cff4"
      },
      "outputs": [
        {
          "data": {
            "text/html": [
              "<style>#sk-container-id-1 {color: black;background-color: white;}#sk-container-id-1 pre{padding: 0;}#sk-container-id-1 div.sk-toggleable {background-color: white;}#sk-container-id-1 label.sk-toggleable__label {cursor: pointer;display: block;width: 100%;margin-bottom: 0;padding: 0.3em;box-sizing: border-box;text-align: center;}#sk-container-id-1 label.sk-toggleable__label-arrow:before {content: \"▸\";float: left;margin-right: 0.25em;color: #696969;}#sk-container-id-1 label.sk-toggleable__label-arrow:hover:before {color: black;}#sk-container-id-1 div.sk-estimator:hover label.sk-toggleable__label-arrow:before {color: black;}#sk-container-id-1 div.sk-toggleable__content {max-height: 0;max-width: 0;overflow: hidden;text-align: left;background-color: #f0f8ff;}#sk-container-id-1 div.sk-toggleable__content pre {margin: 0.2em;color: black;border-radius: 0.25em;background-color: #f0f8ff;}#sk-container-id-1 input.sk-toggleable__control:checked~div.sk-toggleable__content {max-height: 200px;max-width: 100%;overflow: auto;}#sk-container-id-1 input.sk-toggleable__control:checked~label.sk-toggleable__label-arrow:before {content: \"▾\";}#sk-container-id-1 div.sk-estimator input.sk-toggleable__control:checked~label.sk-toggleable__label {background-color: #d4ebff;}#sk-container-id-1 div.sk-label input.sk-toggleable__control:checked~label.sk-toggleable__label {background-color: #d4ebff;}#sk-container-id-1 input.sk-hidden--visually {border: 0;clip: rect(1px 1px 1px 1px);clip: rect(1px, 1px, 1px, 1px);height: 1px;margin: -1px;overflow: hidden;padding: 0;position: absolute;width: 1px;}#sk-container-id-1 div.sk-estimator {font-family: monospace;background-color: #f0f8ff;border: 1px dotted black;border-radius: 0.25em;box-sizing: border-box;margin-bottom: 0.5em;}#sk-container-id-1 div.sk-estimator:hover {background-color: #d4ebff;}#sk-container-id-1 div.sk-parallel-item::after {content: \"\";width: 100%;border-bottom: 1px solid gray;flex-grow: 1;}#sk-container-id-1 div.sk-label:hover label.sk-toggleable__label {background-color: #d4ebff;}#sk-container-id-1 div.sk-serial::before {content: \"\";position: absolute;border-left: 1px solid gray;box-sizing: border-box;top: 0;bottom: 0;left: 50%;z-index: 0;}#sk-container-id-1 div.sk-serial {display: flex;flex-direction: column;align-items: center;background-color: white;padding-right: 0.2em;padding-left: 0.2em;position: relative;}#sk-container-id-1 div.sk-item {position: relative;z-index: 1;}#sk-container-id-1 div.sk-parallel {display: flex;align-items: stretch;justify-content: center;background-color: white;position: relative;}#sk-container-id-1 div.sk-item::before, #sk-container-id-1 div.sk-parallel-item::before {content: \"\";position: absolute;border-left: 1px solid gray;box-sizing: border-box;top: 0;bottom: 0;left: 50%;z-index: -1;}#sk-container-id-1 div.sk-parallel-item {display: flex;flex-direction: column;z-index: 1;position: relative;background-color: white;}#sk-container-id-1 div.sk-parallel-item:first-child::after {align-self: flex-end;width: 50%;}#sk-container-id-1 div.sk-parallel-item:last-child::after {align-self: flex-start;width: 50%;}#sk-container-id-1 div.sk-parallel-item:only-child::after {width: 0;}#sk-container-id-1 div.sk-dashed-wrapped {border: 1px dashed gray;margin: 0 0.4em 0.5em 0.4em;box-sizing: border-box;padding-bottom: 0.4em;background-color: white;}#sk-container-id-1 div.sk-label label {font-family: monospace;font-weight: bold;display: inline-block;line-height: 1.2em;}#sk-container-id-1 div.sk-label-container {text-align: center;}#sk-container-id-1 div.sk-container {/* jupyter's `normalize.less` sets `[hidden] { display: none; }` but bootstrap.min.css set `[hidden] { display: none !important; }` so we also need the `!important` here to be able to override the default hidden behavior on the sphinx rendered scikit-learn.org. See: https://github.com/scikit-learn/scikit-learn/issues/21755 */display: inline-block !important;position: relative;}#sk-container-id-1 div.sk-text-repr-fallback {display: none;}</style><div id=\"sk-container-id-1\" class=\"sk-top-container\"><div class=\"sk-text-repr-fallback\"><pre>StackingClassifier(estimators=[(&#x27;lr&#x27;,\n",
              "                                LogisticRegression(multi_class=&#x27;multinomial&#x27;,\n",
              "                                                   penalty=&#x27;none&#x27;,\n",
              "                                                   solver=&#x27;saga&#x27;, tol=0.01)),\n",
              "                               (&#x27;rf&#x27;,\n",
              "                                RandomForestClassifier(max_features=3,\n",
              "                                                       random_state=12345)),\n",
              "                               (&#x27;svm&#x27;,\n",
              "                                Pipeline(steps=[(&#x27;standardscaler&#x27;,\n",
              "                                                 StandardScaler()),\n",
              "                                                (&#x27;svc&#x27;,\n",
              "                                                 SVC(C=1000, gamma=0.005,\n",
              "                                                     probability=True,\n",
              "                                                     random_state=12345))]))],\n",
              "                   final_estimator=LogisticRegression(),\n",
              "                   stack_method=&#x27;predict_proba&#x27;)</pre><b>In a Jupyter environment, please rerun this cell to show the HTML representation or trust the notebook. <br />On GitHub, the HTML representation is unable to render, please try loading this page with nbviewer.org.</b></div><div class=\"sk-container\" hidden><div class=\"sk-item sk-dashed-wrapped\"><div class=\"sk-label-container\"><div class=\"sk-label sk-toggleable\"><input class=\"sk-toggleable__control sk-hidden--visually\" id=\"sk-estimator-id-1\" type=\"checkbox\" ><label for=\"sk-estimator-id-1\" class=\"sk-toggleable__label sk-toggleable__label-arrow\">StackingClassifier</label><div class=\"sk-toggleable__content\"><pre>StackingClassifier(estimators=[(&#x27;lr&#x27;,\n",
              "                                LogisticRegression(multi_class=&#x27;multinomial&#x27;,\n",
              "                                                   penalty=&#x27;none&#x27;,\n",
              "                                                   solver=&#x27;saga&#x27;, tol=0.01)),\n",
              "                               (&#x27;rf&#x27;,\n",
              "                                RandomForestClassifier(max_features=3,\n",
              "                                                       random_state=12345)),\n",
              "                               (&#x27;svm&#x27;,\n",
              "                                Pipeline(steps=[(&#x27;standardscaler&#x27;,\n",
              "                                                 StandardScaler()),\n",
              "                                                (&#x27;svc&#x27;,\n",
              "                                                 SVC(C=1000, gamma=0.005,\n",
              "                                                     probability=True,\n",
              "                                                     random_state=12345))]))],\n",
              "                   final_estimator=LogisticRegression(),\n",
              "                   stack_method=&#x27;predict_proba&#x27;)</pre></div></div></div><div class=\"sk-serial\"><div class=\"sk-item\"><div class=\"sk-parallel\"><div class=\"sk-parallel-item\"><div class=\"sk-item\"><div class=\"sk-label-container\"><div class=\"sk-label sk-toggleable\"><label>lr</label></div></div><div class=\"sk-serial\"><div class=\"sk-item\"><div class=\"sk-estimator sk-toggleable\"><input class=\"sk-toggleable__control sk-hidden--visually\" id=\"sk-estimator-id-2\" type=\"checkbox\" ><label for=\"sk-estimator-id-2\" class=\"sk-toggleable__label sk-toggleable__label-arrow\">LogisticRegression</label><div class=\"sk-toggleable__content\"><pre>LogisticRegression(multi_class=&#x27;multinomial&#x27;, penalty=&#x27;none&#x27;, solver=&#x27;saga&#x27;,\n",
              "                   tol=0.01)</pre></div></div></div></div></div></div><div class=\"sk-parallel-item\"><div class=\"sk-item\"><div class=\"sk-label-container\"><div class=\"sk-label sk-toggleable\"><label>rf</label></div></div><div class=\"sk-serial\"><div class=\"sk-item\"><div class=\"sk-estimator sk-toggleable\"><input class=\"sk-toggleable__control sk-hidden--visually\" id=\"sk-estimator-id-3\" type=\"checkbox\" ><label for=\"sk-estimator-id-3\" class=\"sk-toggleable__label sk-toggleable__label-arrow\">RandomForestClassifier</label><div class=\"sk-toggleable__content\"><pre>RandomForestClassifier(max_features=3, random_state=12345)</pre></div></div></div></div></div></div><div class=\"sk-parallel-item\"><div class=\"sk-item\"><div class=\"sk-label-container\"><div class=\"sk-label sk-toggleable\"><label>svm</label></div></div><div class=\"sk-serial\"><div class=\"sk-item\"><div class=\"sk-serial\"><div class=\"sk-item\"><div class=\"sk-estimator sk-toggleable\"><input class=\"sk-toggleable__control sk-hidden--visually\" id=\"sk-estimator-id-4\" type=\"checkbox\" ><label for=\"sk-estimator-id-4\" class=\"sk-toggleable__label sk-toggleable__label-arrow\">StandardScaler</label><div class=\"sk-toggleable__content\"><pre>StandardScaler()</pre></div></div></div><div class=\"sk-item\"><div class=\"sk-estimator sk-toggleable\"><input class=\"sk-toggleable__control sk-hidden--visually\" id=\"sk-estimator-id-5\" type=\"checkbox\" ><label for=\"sk-estimator-id-5\" class=\"sk-toggleable__label sk-toggleable__label-arrow\">SVC</label><div class=\"sk-toggleable__content\"><pre>SVC(C=1000, gamma=0.005, probability=True, random_state=12345)</pre></div></div></div></div></div></div></div></div></div></div><div class=\"sk-item\"><div class=\"sk-parallel\"><div class=\"sk-parallel-item\"><div class=\"sk-item\"><div class=\"sk-label-container\"><div class=\"sk-label sk-toggleable\"><label>final_estimator</label></div></div><div class=\"sk-serial\"><div class=\"sk-item\"><div class=\"sk-estimator sk-toggleable\"><input class=\"sk-toggleable__control sk-hidden--visually\" id=\"sk-estimator-id-6\" type=\"checkbox\" ><label for=\"sk-estimator-id-6\" class=\"sk-toggleable__label sk-toggleable__label-arrow\">LogisticRegression</label><div class=\"sk-toggleable__content\"><pre>LogisticRegression()</pre></div></div></div></div></div></div></div></div></div></div></div></div>"
            ],
            "text/plain": [
              "StackingClassifier(estimators=[('lr',\n",
              "                                LogisticRegression(multi_class='multinomial',\n",
              "                                                   penalty='none',\n",
              "                                                   solver='saga', tol=0.01)),\n",
              "                               ('rf',\n",
              "                                RandomForestClassifier(max_features=3,\n",
              "                                                       random_state=12345)),\n",
              "                               ('svm',\n",
              "                                Pipeline(steps=[('standardscaler',\n",
              "                                                 StandardScaler()),\n",
              "                                                ('svc',\n",
              "                                                 SVC(C=1000, gamma=0.005,\n",
              "                                                     probability=True,\n",
              "                                                     random_state=12345))]))],\n",
              "                   final_estimator=LogisticRegression(),\n",
              "                   stack_method='predict_proba')"
            ]
          },
          "execution_count": 12,
          "metadata": {},
          "output_type": "execute_result"
        }
      ],
      "source": [
        "from sklearn.pipeline import make_pipeline\n",
        "from sklearn.ensemble import StackingClassifier\n",
        "\n",
        "estimators = [\n",
        "    ('lr', clf_LR),\n",
        "    ('rf', clf_RF),\n",
        "    ('svm',make_pipeline(StandardScaler(),clf_svm))]\n",
        "\n",
        "clf_stack = StackingClassifier(estimators=estimators, final_estimator=LogisticRegression(),\n",
        "                              stack_method='predict_proba')\n",
        "\n",
        "clf_stack.fit(X_train,Y_train)"
      ]
    },
    {
      "cell_type": "code",
      "execution_count": null,
      "id": "b3f4e305",
      "metadata": {
        "id": "b3f4e305",
        "outputId": "9ea76411-df2c-4328-c3d1-be0767eed139"
      },
      "outputs": [
        {
          "name": "stdout",
          "output_type": "stream",
          "text": [
            "Accuracy of Stacking : 0.693\n"
          ]
        }
      ],
      "source": [
        "accuracy_stack = accuracy_score(Y_test, clf_stack.predict(X_test))\n",
        "\n",
        "print(\"Accuracy of Stacking :\",\"%.3f\" % accuracy_stack)"
      ]
    },
    {
      "cell_type": "markdown",
      "id": "79d81402-86e2-4582-a752-e8aade1bc484",
      "metadata": {
        "tags": [],
        "id": "79d81402-86e2-4582-a752-e8aade1bc484"
      },
      "source": [
        "5. Comparaison des performances"
      ]
    },
    {
      "cell_type": "code",
      "execution_count": null,
      "id": "098cef2f-06dc-4e9e-848f-9a8b1ffa7106",
      "metadata": {
        "id": "098cef2f-06dc-4e9e-848f-9a8b1ffa7106"
      },
      "outputs": [],
      "source": [
        "import numpy as np\n",
        "from sklearn.preprocessing import label_binarize\n",
        "from sklearn.metrics import roc_curve, auc\n",
        "\n",
        "Y_classes = np.unique(Y)\n",
        "Y_test_binarized = label_binarize(Y_test, classes=Y_classes)\n",
        "n_classes = len(Y_classes)\n",
        "\n",
        "\n",
        "# Logistic Regression\n",
        "score_lr = clf_LR.predict_proba(X_test)\n",
        "fpr_lr = dict()\n",
        "tpr_lr = dict()\n",
        "roc_auc_lr = dict()\n",
        "for i in range(n_classes):\n",
        "    fpr_lr[i], tpr_lr[i], _ = roc_curve(Y_test_binarized[:,i], score_lr[:, i])\n",
        "    roc_auc_lr[i] = auc(fpr_lr[i], tpr_lr[i])\n",
        "# SVM\n",
        "score_svm = clf_svm.predict_proba(X_test_scaled)\n",
        "fpr_svm = dict()\n",
        "tpr_svm = dict()\n",
        "roc_auc_svm = dict()\n",
        "for i in range(n_classes):\n",
        "    fpr_svm[i], tpr_svm[i], _ = roc_curve(Y_test_binarized[:,i], score_svm[:, i])\n",
        "    roc_auc_svm[i] = auc(fpr_svm[i], tpr_svm[i])\n",
        "# Random Forests\n",
        "score_rf = clf_RF.predict_proba(X_test)\n",
        "fpr_rf = dict()\n",
        "tpr_rf = dict()\n",
        "roc_auc_rf = dict()\n",
        "for i in range(n_classes):\n",
        "    fpr_rf[i], tpr_rf[i], _ = roc_curve(Y_test_binarized[:,i], score_rf[:, i])\n",
        "    roc_auc_rf[i] = auc(fpr_rf[i], tpr_rf[i])\n",
        "# XGBOOST\n",
        "score_xgb = clf_xgb.predict_proba(X_test)\n",
        "fpr_xgb = dict()\n",
        "tpr_xgb = dict()\n",
        "roc_auc_xgb = dict()\n",
        "for i in range(n_classes):\n",
        "    fpr_xgb[i], tpr_xgb[i], _ = roc_curve(Y_test_binarized[:,i], score_xgb[:, i])\n",
        "    roc_auc_xgb[i] = auc(fpr_xgb[i], tpr_xgb[i])\n",
        "# Stacking\n",
        "score_stack = clf_stack.predict_proba(X_test)\n",
        "fpr_stack = dict()\n",
        "tpr_stack = dict()\n",
        "roc_auc_stack = dict()\n",
        "for i in range(n_classes):\n",
        "    fpr_stack[i], tpr_stack[i], _ = roc_curve(Y_test_binarized[:,i], score_stack[:, i])\n",
        "    roc_auc_stack[i] = auc(fpr_stack[i], tpr_stack[i])\n",
        "\n",
        "\n",
        "# Compute micro-average ROC curve and ROC area\n",
        "# Logistic Regression\n",
        "fpr_lr[\"micro\"], tpr_lr[\"micro\"], _ = roc_curve(Y_test_binarized.ravel(), score_lr.ravel())\n",
        "roc_auc_lr[\"micro\"] = auc(fpr_lr[\"micro\"], tpr_lr[\"micro\"])\n",
        "# SVM\n",
        "fpr_svm[\"micro\"], tpr_svm[\"micro\"], _ = roc_curve(Y_test_binarized.ravel(), score_svm.ravel())\n",
        "roc_auc_svm[\"micro\"] = auc(fpr_svm[\"micro\"], tpr_svm[\"micro\"])\n",
        "# Random Forests\n",
        "fpr_rf[\"micro\"], tpr_rf[\"micro\"], _ = roc_curve(Y_test_binarized.ravel(), score_rf.ravel())\n",
        "roc_auc_rf[\"micro\"] = auc(fpr_rf[\"micro\"], tpr_rf[\"micro\"])\n",
        "# XGBOOST\n",
        "fpr_xgb[\"micro\"], tpr_xgb[\"micro\"], _ = roc_curve(Y_test_binarized.ravel(), score_xgb.ravel())\n",
        "roc_auc_xgb[\"micro\"] = auc(fpr_xgb[\"micro\"], tpr_xgb[\"micro\"])\n",
        "# Stacking\n",
        "fpr_stack[\"micro\"], tpr_stack[\"micro\"], _ = roc_curve(Y_test_binarized.ravel(), score_stack.ravel())\n",
        "roc_auc_stack[\"micro\"] = auc(fpr_stack[\"micro\"], tpr_stack[\"micro\"])"
      ]
    },
    {
      "cell_type": "code",
      "execution_count": null,
      "id": "b5b5955c",
      "metadata": {
        "id": "b5b5955c",
        "outputId": "dc01576c-488f-4647-f00d-cfe4966c3b29"
      },
      "outputs": [
        {
          "data": {
            "image/png": "[encoded data removed]",
            "text/plain": [
              "<Figure size 640x480 with 1 Axes>"
            ]
          },
          "metadata": {},
          "output_type": "display_data"
        },
        {
          "name": "stdout",
          "output_type": "stream",
          "text": [
            "Area under Roc Curve (micro-average) for:\n",
            " - Logistic Regression:  0.871 \n",
            " - SVM:  0.906 \n",
            " - Random Forests:  0.906 \n",
            " - XGBOOST:  0.936 \n",
            " - Stacking:  0.938 \n",
            "\n",
            "Area under Roc Curve (one-vs-one macro-average) for:\n",
            " - Logistic Regression:  0.592 \n",
            " - SVM:  0.776 \n",
            " - Random Forests:  0.858 \n",
            " - XGBOOST:  0.813 \n",
            " - Stacking:  0.836 \n",
            "\n"
          ]
        }
      ],
      "source": [
        "import matplotlib.pyplot as plt\n",
        "from sklearn.metrics import roc_auc_score\n",
        "\n",
        "plt.plot([0,1],[0,1], 'k--')\n",
        "plt.plot(fpr_lr[\"micro\"], tpr_lr[\"micro\"], label= \"Logistic Regression Micro\")\n",
        "plt.plot(fpr_svm[\"micro\"], tpr_svm[\"micro\"], label= \"SVM Micro\")\n",
        "plt.plot(fpr_rf[\"micro\"], tpr_rf[\"micro\"], label= \"RF Micro\")\n",
        "plt.plot(fpr_xgb[\"micro\"], tpr_xgb[\"micro\"], label= \"XGBOOST Micro\")\n",
        "plt.plot(fpr_stack[\"micro\"], tpr_stack[\"micro\"], label= \"Stacking Micro\")\n",
        "plt.legend()\n",
        "plt.xlabel(\"FPR\")\n",
        "plt.ylabel(\"TPR\")\n",
        "plt.title('Receiver Operating Characteristic')\n",
        "plt.show()\n",
        "\n",
        "\n",
        "print(\"Area under Roc Curve (micro-average) for:\\n\",\n",
        "     \"- Logistic Regression: \", \"%.3f\" % roc_auc_lr[\"micro\"],\"\\n\",\n",
        "     \"- SVM: \", \"%.3f\" % roc_auc_svm[\"micro\"],\"\\n\",\n",
        "     \"- Random Forests: \", \"%.3f\" % roc_auc_svm[\"micro\"],\"\\n\",\n",
        "     \"- XGBOOST: \", \"%.3f\" % roc_auc_xgb[\"micro\"],\"\\n\",\n",
        "     \"- Stacking: \", \"%.3f\" % roc_auc_stack[\"micro\"],\"\\n\",\n",
        "     )\n",
        "\n",
        "# Compare with AUC one-vs-one and macro-averaging\n",
        "print(\"Area under Roc Curve (one-vs-one macro-average) for:\\n\",\n",
        "     \"- Logistic Regression: \", \"%.3f\" % roc_auc_score(Y_test, score_lr, multi_class=\"ovo\", average=\"macro\"),\"\\n\",\n",
        "     \"- SVM: \", \"%.3f\" % roc_auc_score(Y_test, score_svm, multi_class=\"ovo\", average=\"macro\"),\"\\n\",\n",
        "     \"- Random Forests: \", \"%.3f\" % roc_auc_score(Y_test, score_rf, multi_class=\"ovo\", average=\"macro\"),\"\\n\",\n",
        "     \"- XGBOOST: \", \"%.3f\" % roc_auc_score(label_encoder.transform(Y_test), score_xgb, multi_class=\"ovo\", average=\"macro\"),\"\\n\",\n",
        "     \"- Stacking: \", \"%.3f\" % roc_auc_score(Y_test, score_stack, multi_class=\"ovo\", average=\"macro\"),\"\\n\",\n",
        "     )"
      ]
    }
  ],
  "metadata": {
    "kernelspec": {
      "display_name": "Python 3 (ipykernel)",
      "language": "python",
      "name": "python3"
    },
    "language_info": {
      "codemirror_mode": {
        "name": "ipython",
        "version": 3
      },
      "file_extension": ".py",
      "mimetype": "text/x-python",
      "name": "python",
      "nbconvert_exporter": "python",
      "pygments_lexer": "ipython3",
      "version": "3.8.1"
    },
    "toc-showcode": false,
    "colab": {
      "provenance": []
    }
  },
  "nbformat": 4,
  "nbformat_minor": 5
}